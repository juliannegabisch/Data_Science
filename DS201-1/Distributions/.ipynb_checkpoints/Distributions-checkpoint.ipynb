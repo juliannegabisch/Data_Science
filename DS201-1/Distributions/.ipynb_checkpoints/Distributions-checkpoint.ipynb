{
 "cells": [
  {
   "cell_type": "markdown",
   "metadata": {},
   "source": [
    "# Distributions"
   ]
  },
  {
   "cell_type": "code",
   "execution_count": 1,
   "metadata": {},
   "outputs": [],
   "source": [
    "import numpy as np\n",
    "import pandas as pd\n",
    "import matplotlib.pyplot as plt"
   ]
  },
  {
   "cell_type": "code",
   "execution_count": 2,
   "metadata": {},
   "outputs": [],
   "source": [
    "%matplotlib inline"
   ]
  },
  {
   "cell_type": "markdown",
   "metadata": {},
   "source": [
    "## Load Seasons Data"
   ]
  },
  {
   "cell_type": "code",
   "execution_count": 4,
   "metadata": {},
   "outputs": [],
   "source": [
    "nba = pd.read_csv(\"./data/season_stats.csv\")"
   ]
  },
  {
   "cell_type": "markdown",
   "metadata": {},
   "source": [
    "### Use `value_counts()` to view all unique values in a distribution and their frequencies."
   ]
  },
  {
   "cell_type": "code",
   "execution_count": 8,
   "metadata": {},
   "outputs": [
    {
     "data": {
      "text/html": [
       "<div>\n",
       "<style scoped>\n",
       "    .dataframe tbody tr th:only-of-type {\n",
       "        vertical-align: middle;\n",
       "    }\n",
       "\n",
       "    .dataframe tbody tr th {\n",
       "        vertical-align: top;\n",
       "    }\n",
       "\n",
       "    .dataframe thead th {\n",
       "        text-align: right;\n",
       "    }\n",
       "</style>\n",
       "<table border=\"1\" class=\"dataframe\">\n",
       "  <thead>\n",
       "    <tr style=\"text-align: right;\">\n",
       "      <th></th>\n",
       "      <th>Year</th>\n",
       "      <th>Player</th>\n",
       "      <th>Pos</th>\n",
       "      <th>Age</th>\n",
       "      <th>Tm</th>\n",
       "      <th>G</th>\n",
       "      <th>GS</th>\n",
       "      <th>MP</th>\n",
       "      <th>PER</th>\n",
       "      <th>TS%</th>\n",
       "      <th>...</th>\n",
       "      <th>FT%</th>\n",
       "      <th>ORB</th>\n",
       "      <th>DRB</th>\n",
       "      <th>TRB</th>\n",
       "      <th>AST</th>\n",
       "      <th>STL</th>\n",
       "      <th>BLK</th>\n",
       "      <th>TOV</th>\n",
       "      <th>PF</th>\n",
       "      <th>PTS</th>\n",
       "    </tr>\n",
       "  </thead>\n",
       "  <tbody>\n",
       "    <tr>\n",
       "      <th>0</th>\n",
       "      <td>1950.0</td>\n",
       "      <td>Curly Armstrong</td>\n",
       "      <td>G-F</td>\n",
       "      <td>31.0</td>\n",
       "      <td>FTW</td>\n",
       "      <td>63.0</td>\n",
       "      <td>NaN</td>\n",
       "      <td>NaN</td>\n",
       "      <td>NaN</td>\n",
       "      <td>0.368</td>\n",
       "      <td>...</td>\n",
       "      <td>0.705</td>\n",
       "      <td>NaN</td>\n",
       "      <td>NaN</td>\n",
       "      <td>NaN</td>\n",
       "      <td>176.0</td>\n",
       "      <td>NaN</td>\n",
       "      <td>NaN</td>\n",
       "      <td>NaN</td>\n",
       "      <td>217.0</td>\n",
       "      <td>458.0</td>\n",
       "    </tr>\n",
       "    <tr>\n",
       "      <th>1</th>\n",
       "      <td>1950.0</td>\n",
       "      <td>Cliff Barker</td>\n",
       "      <td>SG</td>\n",
       "      <td>29.0</td>\n",
       "      <td>INO</td>\n",
       "      <td>49.0</td>\n",
       "      <td>NaN</td>\n",
       "      <td>NaN</td>\n",
       "      <td>NaN</td>\n",
       "      <td>0.435</td>\n",
       "      <td>...</td>\n",
       "      <td>0.708</td>\n",
       "      <td>NaN</td>\n",
       "      <td>NaN</td>\n",
       "      <td>NaN</td>\n",
       "      <td>109.0</td>\n",
       "      <td>NaN</td>\n",
       "      <td>NaN</td>\n",
       "      <td>NaN</td>\n",
       "      <td>99.0</td>\n",
       "      <td>279.0</td>\n",
       "    </tr>\n",
       "    <tr>\n",
       "      <th>2</th>\n",
       "      <td>1950.0</td>\n",
       "      <td>Leo Barnhorst</td>\n",
       "      <td>SF</td>\n",
       "      <td>25.0</td>\n",
       "      <td>CHS</td>\n",
       "      <td>67.0</td>\n",
       "      <td>NaN</td>\n",
       "      <td>NaN</td>\n",
       "      <td>NaN</td>\n",
       "      <td>0.394</td>\n",
       "      <td>...</td>\n",
       "      <td>0.698</td>\n",
       "      <td>NaN</td>\n",
       "      <td>NaN</td>\n",
       "      <td>NaN</td>\n",
       "      <td>140.0</td>\n",
       "      <td>NaN</td>\n",
       "      <td>NaN</td>\n",
       "      <td>NaN</td>\n",
       "      <td>192.0</td>\n",
       "      <td>438.0</td>\n",
       "    </tr>\n",
       "    <tr>\n",
       "      <th>3</th>\n",
       "      <td>1950.0</td>\n",
       "      <td>Ed Bartels</td>\n",
       "      <td>F</td>\n",
       "      <td>24.0</td>\n",
       "      <td>TOT</td>\n",
       "      <td>15.0</td>\n",
       "      <td>NaN</td>\n",
       "      <td>NaN</td>\n",
       "      <td>NaN</td>\n",
       "      <td>0.312</td>\n",
       "      <td>...</td>\n",
       "      <td>0.559</td>\n",
       "      <td>NaN</td>\n",
       "      <td>NaN</td>\n",
       "      <td>NaN</td>\n",
       "      <td>20.0</td>\n",
       "      <td>NaN</td>\n",
       "      <td>NaN</td>\n",
       "      <td>NaN</td>\n",
       "      <td>29.0</td>\n",
       "      <td>63.0</td>\n",
       "    </tr>\n",
       "    <tr>\n",
       "      <th>4</th>\n",
       "      <td>1950.0</td>\n",
       "      <td>Ed Bartels</td>\n",
       "      <td>F</td>\n",
       "      <td>24.0</td>\n",
       "      <td>DNN</td>\n",
       "      <td>13.0</td>\n",
       "      <td>NaN</td>\n",
       "      <td>NaN</td>\n",
       "      <td>NaN</td>\n",
       "      <td>0.308</td>\n",
       "      <td>...</td>\n",
       "      <td>0.548</td>\n",
       "      <td>NaN</td>\n",
       "      <td>NaN</td>\n",
       "      <td>NaN</td>\n",
       "      <td>20.0</td>\n",
       "      <td>NaN</td>\n",
       "      <td>NaN</td>\n",
       "      <td>NaN</td>\n",
       "      <td>27.0</td>\n",
       "      <td>59.0</td>\n",
       "    </tr>\n",
       "  </tbody>\n",
       "</table>\n",
       "<p>5 rows × 52 columns</p>\n",
       "</div>"
      ],
      "text/plain": [
       "     Year           Player  Pos   Age   Tm     G  GS  MP  PER    TS%  ...    \\\n",
       "0  1950.0  Curly Armstrong  G-F  31.0  FTW  63.0 NaN NaN  NaN  0.368  ...     \n",
       "1  1950.0     Cliff Barker   SG  29.0  INO  49.0 NaN NaN  NaN  0.435  ...     \n",
       "2  1950.0    Leo Barnhorst   SF  25.0  CHS  67.0 NaN NaN  NaN  0.394  ...     \n",
       "3  1950.0       Ed Bartels    F  24.0  TOT  15.0 NaN NaN  NaN  0.312  ...     \n",
       "4  1950.0       Ed Bartels    F  24.0  DNN  13.0 NaN NaN  NaN  0.308  ...     \n",
       "\n",
       "     FT%  ORB  DRB  TRB    AST  STL  BLK  TOV     PF    PTS  \n",
       "0  0.705  NaN  NaN  NaN  176.0  NaN  NaN  NaN  217.0  458.0  \n",
       "1  0.708  NaN  NaN  NaN  109.0  NaN  NaN  NaN   99.0  279.0  \n",
       "2  0.698  NaN  NaN  NaN  140.0  NaN  NaN  NaN  192.0  438.0  \n",
       "3  0.559  NaN  NaN  NaN   20.0  NaN  NaN  NaN   29.0   63.0  \n",
       "4  0.548  NaN  NaN  NaN   20.0  NaN  NaN  NaN   27.0   59.0  \n",
       "\n",
       "[5 rows x 52 columns]"
      ]
     },
     "execution_count": 8,
     "metadata": {},
     "output_type": "execute_result"
    }
   ],
   "source": [
    "nba.head()"
   ]
  },
  {
   "cell_type": "code",
   "execution_count": 12,
   "metadata": {},
   "outputs": [
    {
     "data": {
      "text/plain": [
       "(24691, 52)"
      ]
     },
     "execution_count": 12,
     "metadata": {},
     "output_type": "execute_result"
    }
   ],
   "source": [
    "nba.shape"
   ]
  },
  {
   "cell_type": "markdown",
   "metadata": {},
   "source": [
    "shoot = nba['TS%'].value_counts()\n",
    "shoot"
   ]
  },
  {
   "cell_type": "code",
   "execution_count": 15,
   "metadata": {},
   "outputs": [
    {
     "data": {
      "text/plain": [
       "1.136      3\n",
       "1.094      1\n",
       "1.064      8\n",
       "1.042      4\n",
       "1.025      2\n",
       "1.000     40\n",
       "0.970      1\n",
       "0.935      1\n",
       "0.931      2\n",
       "0.919      1\n",
       "0.917      1\n",
       "0.906      1\n",
       "0.902      1\n",
       "0.868      2\n",
       "0.862      1\n",
       "0.852      1\n",
       "0.850      2\n",
       "0.847      1\n",
       "0.838      1\n",
       "0.833      1\n",
       "0.825      1\n",
       "0.820      3\n",
       "0.810      1\n",
       "0.800      3\n",
       "0.799      1\n",
       "0.798      5\n",
       "0.778      3\n",
       "0.776      1\n",
       "0.773     10\n",
       "0.771      1\n",
       "        ... \n",
       "0.133      1\n",
       "0.131      1\n",
       "0.129      6\n",
       "0.127      1\n",
       "0.126      1\n",
       "0.125      7\n",
       "0.121      1\n",
       "0.120      1\n",
       "0.118      1\n",
       "0.116      2\n",
       "0.115      1\n",
       "0.114      1\n",
       "0.113      2\n",
       "0.111      2\n",
       "0.105      4\n",
       "0.102      6\n",
       "0.101      1\n",
       "0.100      1\n",
       "0.099      1\n",
       "0.091      1\n",
       "0.085      1\n",
       "0.083      2\n",
       "0.081      1\n",
       "0.074      1\n",
       "0.073      1\n",
       "0.063      1\n",
       "0.056      2\n",
       "0.051      2\n",
       "0.046      1\n",
       "0.000    201\n",
       "Name: TS%, Length: 618, dtype: int64"
      ]
     },
     "execution_count": 15,
     "metadata": {},
     "output_type": "execute_result"
    }
   ],
   "source": [
    "sorted_shoot = nba['TS%'].value_counts().sort_index(ascending=False)\n",
    "sorted_shoot"
   ]
  },
  {
   "cell_type": "markdown",
   "metadata": {},
   "source": [
    "### Use matplotlib to plot a Histogram to Visualize a Distribution"
   ]
  },
  {
   "cell_type": "code",
   "execution_count": 26,
   "metadata": {},
   "outputs": [
    {
     "data": {
      "image/png": "[encoded data removed]",
      "text/plain": [
       "<Figure size 432x288 with 1 Axes>"
      ]
     },
     "metadata": {
      "needs_background": "light"
     },
     "output_type": "display_data"
    }
   ],
   "source": [
    "plt.hist(nba['TS%'], bins=20)\n",
    "\n",
    "# Make it pretty \n",
    "plt.title(\"True Shooting % Across all NBA Seasons\")\n",
    "plt.xlabel(\"True Shooting Percentage\")\n",
    "plt.ylabel(\"# of Players\")\n",
    "\n",
    "# \"print\" the plot\n",
    "plt.show()"
   ]
  },
  {
   "cell_type": "markdown",
   "metadata": {},
   "source": [
    "### How different is the NBA Now than in 1950?"
   ]
  },
  {
   "cell_type": "code",
   "execution_count": 27,
   "metadata": {},
   "outputs": [
    {
     "name": "stdout",
     "output_type": "stream",
     "text": [
      "1950.0 2017.0\n"
     ]
    }
   ],
   "source": [
    "first_year = nba['Year'].min()\n",
    "last_year = nba['Year'].max()\n",
    "print(first_year, last_year)"
   ]
  },
  {
   "cell_type": "code",
   "execution_count": 32,
   "metadata": {},
   "outputs": [
    {
     "data": {
      "text/plain": [
       "0         True\n",
       "1         True\n",
       "2         True\n",
       "3         True\n",
       "4         True\n",
       "5         True\n",
       "6         True\n",
       "7         True\n",
       "8         True\n",
       "9         True\n",
       "10        True\n",
       "11        True\n",
       "12        True\n",
       "13        True\n",
       "14        True\n",
       "15        True\n",
       "16        True\n",
       "17        True\n",
       "18        True\n",
       "19        True\n",
       "20        True\n",
       "21        True\n",
       "22        True\n",
       "23        True\n",
       "24        True\n",
       "25        True\n",
       "26        True\n",
       "27        True\n",
       "28        True\n",
       "29        True\n",
       "         ...  \n",
       "24661    False\n",
       "24662    False\n",
       "24663    False\n",
       "24664    False\n",
       "24665    False\n",
       "24666    False\n",
       "24667    False\n",
       "24668    False\n",
       "24669    False\n",
       "24670    False\n",
       "24671    False\n",
       "24672    False\n",
       "24673    False\n",
       "24674    False\n",
       "24675    False\n",
       "24676    False\n",
       "24677    False\n",
       "24678    False\n",
       "24679    False\n",
       "24680    False\n",
       "24681    False\n",
       "24682    False\n",
       "24683    False\n",
       "24684    False\n",
       "24685    False\n",
       "24686    False\n",
       "24687    False\n",
       "24688    False\n",
       "24689    False\n",
       "24690    False\n",
       "Name: Year, Length: 24691, dtype: bool"
      ]
     },
     "execution_count": 32,
     "metadata": {},
     "output_type": "execute_result"
    }
   ],
   "source": [
    "nba['Year'] == first_year"
   ]
  },
  {
   "cell_type": "code",
   "execution_count": 28,
   "metadata": {},
   "outputs": [],
   "source": [
    "y_1950 = nba[nba['Year'] == first_year]"
   ]
  },
  {
   "cell_type": "code",
   "execution_count": 33,
   "metadata": {},
   "outputs": [],
   "source": [
    "y_2017 = nba[nba['Year'] == last_year]"
   ]
  },
  {
   "cell_type": "code",
   "execution_count": 34,
   "metadata": {},
   "outputs": [
    {
     "data": {
      "image/png": "[encoded data removed]",
      "text/plain": [
       "<Figure size 432x288 with 1 Axes>"
      ]
     },
     "metadata": {
      "needs_background": "light"
     },
     "output_type": "display_data"
    }
   ],
   "source": [
    "plt.hist(y_1950['TS%'], bins=20)\n",
    "\n",
    "# Make it pretty \n",
    "plt.title(\"True Shooting % for 1950 Season\")\n",
    "plt.xlabel(\"True Shooting Percentage\")\n",
    "plt.ylabel(\"# of Players\")\n",
    "\n",
    "# \"print\" the plot\n",
    "plt.show()"
   ]
  },
  {
   "cell_type": "code",
   "execution_count": 31,
   "metadata": {},
   "outputs": [
    {
     "data": {
      "image/png": "[encoded data removed]",
      "text/plain": [
       "<Figure size 432x288 with 1 Axes>"
      ]
     },
     "metadata": {
      "needs_background": "light"
     },
     "output_type": "display_data"
    }
   ],
   "source": [
    "plt.hist(y_2017['TS%'], bins=20)\n",
    "\n",
    "# Make it pretty \n",
    "plt.title(\"True Shooting % for 2017 Season\")\n",
    "plt.xlabel(\"True Shooting Percentage\")\n",
    "plt.ylabel(\"# of Players\")\n",
    "\n",
    "# \"print\" the plot\n",
    "plt.show()"
   ]
  },
  {
   "cell_type": "markdown",
   "metadata": {},
   "source": [
    "Using only the data from the Histograms for both years... What has happened to True Shooting % between 1950 and 2017?"
   ]
  },
  {
   "cell_type": "code",
   "execution_count": null,
   "metadata": {},
   "outputs": [],
   "source": [
    "#short answer shift in distrubution to higher percentages. "
   ]
  },
  {
   "cell_type": "markdown",
   "metadata": {},
   "source": [
    "## Load Player Data"
   ]
  },
  {
   "cell_type": "code",
   "execution_count": 52,
   "metadata": {},
   "outputs": [],
   "source": [
    "players = pd.read_csv('./data/player_data.csv')"
   ]
  },
  {
   "cell_type": "markdown",
   "metadata": {},
   "source": [
    "### Does The College Attended affect performance in NBA?"
   ]
  },
  {
   "cell_type": "code",
   "execution_count": 62,
   "metadata": {},
   "outputs": [
    {
     "name": "stdout",
     "output_type": "stream",
     "text": [
      "Duke University\n",
      "Iowa State University\n",
      "University of California, Los Angeles\n",
      "Louisiana State University\n",
      "San Jose State University\n",
      "University of California\n",
      "Indiana University\n",
      "Western Kentucky University\n",
      "Salem International University\n",
      "nan\n",
      "Pepperdine University\n",
      "Long Island University\n",
      "Oral Roberts University\n",
      "Hillsdale College\n",
      "Baylor University\n",
      "University of Oklahoma\n",
      "Northwestern University\n",
      "Gardner-Webb University\n",
      "University of Arizona\n",
      "Boston College\n",
      "University of Pittsburgh\n",
      "Syracuse University\n",
      "University of Kentucky\n",
      "Loyola Marymount University\n",
      "University of Connecticut\n",
      "Michigan State University\n",
      "DePaul University\n",
      "Missouri State University\n",
      "Brigham Young University\n",
      "Morehead State University\n",
      "California State University, Fullerton\n",
      "Florida State University\n",
      "California State University, Fresno\n",
      "University of Kansas\n",
      "University of Texas at Austin\n",
      "University of Virginia\n",
      "University of South Florida\n",
      "West Virginia University\n",
      "New Mexico State University\n",
      "Marshall University\n",
      "University of Pennsylvania\n",
      "Temple University\n",
      "Villanova University\n",
      "Oklahoma State University\n",
      "University of Miami\n",
      "University of Nevada, Las Vegas\n",
      "Weber State University\n",
      "Rice University\n",
      "Duquesne University\n",
      "Liberty University\n",
      "Pennsylvania State University\n",
      "Southern Illinois University\n",
      "Wake Forest University\n",
      "Blinn College\n",
      "Canisius College\n",
      "University of Memphis\n",
      "Saint Joseph's University\n",
      "Augsburg College\n",
      "University of Southern California\n",
      "University of Houston\n",
      "Bradley University\n",
      "Georgia Institute of Technology\n",
      "University of Missouri\n",
      "Drexel University\n",
      "University of Illinois at Urbana-Champaign\n",
      "University of California, Santa Barbara\n",
      "University of Georgia\n",
      "Creighton University\n",
      "University of Alabama\n",
      "University of Texas at El Paso\n",
      "University of Cincinnati\n",
      "Niagara University\n",
      "University of Iowa\n",
      "Fayetteville State University\n",
      "University of Notre Dame\n",
      "Florida International University\n",
      "Tulane University\n",
      "Alliance College\n",
      "Indiana State University\n",
      "North Carolina Agricultural and Technical State University\n",
      "Arizona State University\n",
      "Seton Hall University\n",
      "Santa Clara University\n",
      "University of Nevada, Reno\n",
      "Tennessee Technological University\n",
      "Fordham University\n",
      "University of Louisville\n",
      "Eastern Kentucky University\n",
      "Tuskegee University\n",
      "Rutgers University\n",
      "North Carolina State University\n",
      "University of New Mexico\n",
      "University of Hawaii\n",
      "Ohio State University\n",
      "Wichita State University\n",
      "University of Hartford\n",
      "Vanderbilt University\n",
      "University of South Carolina\n",
      "University of North Carolina at Charlotte\n",
      "University of Oregon\n",
      "Saint Augustine's College\n",
      "California State University, Los Angeles\n",
      "Northeastern University\n",
      "Auburn University\n",
      "St. John's University\n",
      "University of North Carolina\n",
      "Providence College\n",
      "Tennessee State University\n",
      "University of Akron\n",
      "Washington State University\n",
      "Kansas State University\n",
      "West Virginia University Institute of Technology\n",
      "Oregon State University\n",
      "University of Michigan\n",
      "Kentucky State University\n",
      "Texas Tech University\n",
      "Ohio University\n",
      "University of Maryland\n",
      "Seattle University\n",
      "University of Tennessee\n",
      "Old Dominion University\n",
      "University of Florida\n",
      "Norfolk State University\n",
      "Southern Methodist University\n",
      "University of North Dakota\n",
      "Texas A&M University\n",
      "Prairie View A&M University\n",
      "University of Denver\n",
      "University of Arkansas\n",
      "Stanford University\n",
      "University of Minnesota\n",
      "Drake University\n",
      "Jacksonville University\n",
      "Towson University\n",
      "Winston-Salem State University\n",
      "University of Wisconsin-Green Bay\n",
      "Oakland University\n",
      "Marquette University\n",
      "University of Utah\n",
      "California University of Pennslyvania\n",
      "Bowling Green State University\n",
      "Valparaiso University\n",
      "University of Colorado\n",
      "South Dakota State University\n",
      "Monmouth University\n",
      "University of Wisconsin\n",
      "Dartmouth College\n",
      "College of the Holy Cross\n",
      "University of Dayton\n",
      "Auburn University at Montgomery\n",
      "University of Bridgeport\n",
      "Georgetown University\n",
      "Saint Louis University\n",
      "Cheyney University of Pennsylvania\n",
      "Clemson University\n",
      "Idaho State University\n",
      "Muhlenberg College\n",
      "Western Michigan University\n",
      "Grambling State University\n",
      "University of Detroit Mercy\n",
      "Boston University\n",
      "Eastern Michigan University\n",
      "University of San Francisco\n",
      "University of Tulsa\n",
      "Texas Southern University\n",
      "Princeton University\n",
      "University of Wyoming\n",
      "Northern Illinois University\n",
      "Xavier University\n",
      "Elon University\n",
      "New York University\n",
      "Colgate University\n",
      "St. Bonaventure University\n",
      "University of Charleston\n",
      "University of Toledo\n",
      "Virginia Polytechnic Institute and State University\n",
      "Johnson C. Smith University\n",
      "University of Washington\n",
      "West Virginia Wesleyan College\n",
      "West Texas A&M University\n",
      "University of Louisiana at Lafayette\n",
      "La Salle University\n",
      "University of California, Irvine\n",
      "Miami University\n",
      "Humboldt State University\n",
      "University of Texas at San Antonio\n",
      "Indian Hills Community College\n",
      "Wayne State University\n",
      "University of Evansville\n",
      "Okaloosa-Walton Community College\n",
      "Murray State University\n",
      "George Washington University\n",
      "Slippery Rock University of Pennsylvania\n",
      "Louisiana Tech University\n",
      "University of Idaho\n",
      "Mississippi State University\n",
      "McNeese State University\n",
      "Manhattan College\n",
      "Texas State University\n",
      "Jackson State University\n",
      "Columbia University\n",
      "Utah State University\n",
      "Iona College\n",
      "Pikeville College\n",
      "San Diego State University\n",
      "Lamar University\n",
      "City College of San Francisco\n",
      "Rockhurst University\n",
      "University of Rhode Island\n",
      "University of Massachusetts Amherst\n",
      "South Carolina State University\n",
      "Purdue University\n",
      "Otterbein College\n",
      "East Texas State University\n",
      "Guilford College\n",
      "Mount St. Mary's University\n",
      "Virginia Military Institute\n",
      "University of California, Riverside\n",
      "Hardin-Simmons University\n",
      "University of South Alabama\n",
      "Gonzaga University\n",
      "University of Montana\n",
      "Boise State University\n",
      "University of Mississippi\n",
      "Belmont University\n",
      "Colorado State University\n",
      "Hofstra University\n",
      "Ohio Wesleyan University\n",
      "Southeast Missouri State University\n",
      "Xavier University of Louisiana\n",
      "Central Connecticut State University\n",
      "Cleveland State University\n",
      "Houston Baptist University\n",
      "St. Thomas University\n",
      "Illinois State University\n",
      "Bloomsburg University of Pennsylvania\n",
      "University of Portland\n",
      "Saint Mary's College of California\n",
      "University of New Orleans\n",
      "Georgia State University\n",
      "Oklahoma State Teachers College\n",
      "California State University, Long Beach\n",
      "University of Southern Mississippi\n",
      "University of South Carolina Upstate\n",
      "University of Maine\n",
      "Westminster College of Utah\n",
      "Kentucky Wesleyan College\n",
      "Georgia Southern University\n",
      "Davidson College\n",
      "Mount San Antonio College\n",
      "Virginia Commonwealth University\n",
      "Albany State University\n",
      "Oklahoma Baptist University\n",
      "Delaware State University\n",
      "North Carolina Central University\n",
      "Virginia Union University\n",
      "University of North Texas\n",
      "Midwestern State University\n",
      "Saint Mary of the Plains College\n",
      "University of Wisconsin-River Falls\n",
      "University of the Pacific\n",
      "King's College\n",
      "Lawrence Technological University\n",
      "University of Rochester\n",
      "Clark Atlanta University\n",
      "Arkansas State University\n",
      "Voorhees College\n",
      "New Mexico Highlands University\n",
      "Truman State University\n",
      "LeMoyne-Owen College\n",
      "Belmont Abbey College\n",
      "University of Montevallo\n",
      "Eastern Illinois University\n",
      "Yale University\n",
      "Northeastern State University\n",
      "University of Missouri-Kansas City\n",
      "College of William & Mary\n",
      "Loyola University of Chicago\n",
      "Wright State University\n",
      "East Carolina University\n",
      "Kent State University\n",
      "University of Arkansas at Little Rock\n",
      "Hamline University\n",
      "American International College\n",
      "Morehouse College\n",
      "Butler University\n",
      "City College of New York\n",
      "University of Nebraska\n",
      "University of North Carolina at Wilmington\n",
      "University of Maryland Eastern Shore\n",
      "Cornell University\n",
      "Mississippi Valley State University\n",
      "University of Illinois at Chicago\n",
      "Grand Canyon University\n",
      "Saint Francis University\n",
      "Brooklyn College\n",
      "Bethune-Cookman College\n",
      "Fairfield University\n",
      "Elizabeth City State University\n",
      "DePauw University\n",
      "Sam Houston State University\n",
      "Western Carolina University\n",
      "Northwestern State University\n",
      "Montana State University\n",
      "Fort Valley State University\n",
      "Alabama A&M University\n",
      "College of Charleston\n",
      "Gannon University\n",
      "Trenton State University\n",
      "Oklahoma City University\n",
      "Harvard University\n",
      "Hampton University\n",
      "University of Texas-Pan American\n",
      "Southern University and A&M College\n",
      "California Western Uiversity\n",
      "Brown University\n",
      "University of Minnesota Duluth\n",
      "Franklin College\n",
      "University of Richmond\n",
      "North Park University\n",
      "Wingate University\n",
      "Pfeiffer University\n",
      "Austin Peay State University\n",
      "Acadia University\n",
      "University of Arkansas at Pine Bluff\n",
      "Mount Union College\n",
      "Ashland University\n",
      "University of Northern Colorado\n",
      "Indiana University-Purdue University Indianapolis\n",
      "Queens College\n",
      "Springfield College\n",
      "University of Tennessee at Martin\n",
      "Central Michigan University\n",
      "Thomas More College\n",
      "Eastern New Mexico University\n",
      "Wilberforce University\n",
      "University of Alabama at Birmingham\n",
      "Butler County Community College\n",
      "St. Mary's University\n",
      "Florida Agricultural and Mechanical University\n",
      "Midland College\n",
      "Washington & Jefferson College\n",
      "University of Wisconsin-Parkside\n",
      "Robert Morris University (IL)\n",
      "William Paterson University\n",
      "East Tennessee State University\n",
      "Bemidji State University\n",
      "Stephen F. Austin State University\n",
      "Dillard University\n",
      "Aurora University\n",
      "Huntington University\n",
      "University of Tampa\n",
      "University of the District of Columbia\n",
      "Assumption College\n",
      "University of Central Florida\n",
      "Whitworth\n",
      "College of Saint Rose\n",
      "Lincoln University of Missouri\n",
      "Trinity Valley Community College\n",
      "Texas Christian University\n",
      "Longwood University\n",
      "Centenary College of Louisiana\n",
      "Alcorn State University\n",
      "Middle Tennessee State University\n",
      "Stetson University\n",
      "University of Louisiana at Monroe\n",
      "Nicholls State University\n",
      "University of Nebraska at Kearney\n",
      "Culver-Stockton College\n",
      "Augustana College (SD)\n",
      "Rider University\n",
      "Central State University\n",
      "Saint Peter's College\n",
      "Case Western Reserve University\n",
      "Campbell University\n",
      "Seward County Community College\n",
      "Delta State University\n",
      "High Point University\n",
      "Yankton College\n",
      "West Virginia State University\n",
      "Alabama State University\n",
      "University of Puget Sound\n",
      "St. Francis College\n",
      "Alabama - Huntsville\n",
      "Davis & Elkins College\n",
      "Central Missouri State University\n",
      "Savannah State University\n",
      "Furman University\n",
      "Northern Arizona University\n",
      "Lehigh University\n",
      "California State University, Northridge\n",
      "Montana State University, Billings\n",
      "Miles College\n",
      "Hiram College\n",
      "Western Illinois University\n",
      "George Mason University\n",
      "Mercer University\n",
      "Youngstown State University\n",
      "Lewis University\n",
      "Westchester CC\n",
      "Meridian Community College\n",
      "Hiram Scott College\n",
      "New Mexico Institute of Mining and Technology\n",
      "Loyola College in Maryland\n",
      "Shaw University\n",
      "Bucknell University\n",
      "Wofford College\n",
      "Northwestern Oklahoma State University\n",
      "University of West Florida\n",
      "California Polytechnic State University, San Luis Obispo\n",
      "Beloit College\n",
      "East Central University\n",
      "Coppin State University\n",
      "Westminster College of Pennsylvania\n",
      "Lebanon Valley College\n",
      "Texas Wesleyan University\n",
      "Ouachita Baptist University\n",
      "University at Buffalo, State University of New York\n",
      "Master's College\n",
      "Wheaton College\n",
      "Northwood Institute\n",
      "University of Central Arkansas\n",
      "University of Wisconsin-Stevens Point\n",
      "Utah Valley State College\n",
      "Barton County Community College\n",
      "University of Wisconsin-Eau Claire\n",
      "Bethel College\n",
      "College of Wooster\n",
      "United States Naval Academy\n",
      "University of Central Oklahoma\n",
      "Southeastern Oklahoma State University\n",
      "State University of New York at Potsdam\n",
      "Jacksonville State University\n",
      "Saint Vincent College\n",
      "LeMoyne College\n",
      "University of Tennessee at Chattanooga\n",
      "California State Polytechnic University, Pomona\n",
      "Catholic University of America\n",
      "Dakota Wesleyan University\n",
      "Illinois Wesleyan University\n",
      "Augusta State University\n",
      "United States Military Academy\n",
      "Benedict College\n",
      "Kenyon College\n",
      "Appalachian State University\n",
      "Southeastern Illinois College\n",
      "University of Southern Colorado\n",
      "Valdosta State University\n",
      "State University of New York College at Buffalo\n",
      "Ball State University\n",
      "Marist College\n",
      "Howard University\n",
      "California State University, Bakersfield\n",
      "Christopher Newport University\n",
      "Eastern Washington University\n",
      "Brigham Young University Hawaii\n",
      "James Madison University\n",
      "Phillips University\n",
      "Siena College\n",
      "Portland State University\n",
      "Azusa Pacific University\n",
      "Saint Mary's University of Minnesota\n",
      "State University of West Georgia\n",
      "Millersville University of Pennsylvania\n",
      "University of Scranton\n",
      "American University\n",
      "University of San Diego\n",
      "Morgan State University\n",
      "Walsh University\n",
      "University of Baltimore\n",
      "Hanover College\n",
      "Averett University\n",
      "Friendship Junior College\n",
      "Northeast Mississippi Community College\n"
     ]
    }
   ],
   "source": [
    "for school in players['college'].unique():\n",
    "    print(school)"
   ]
  },
  {
   "cell_type": "code",
   "execution_count": 63,
   "metadata": {},
   "outputs": [],
   "source": [
    "top_5_colleges = ['University of Kentucky',\n",
    "                  'Duke University',\n",
    "                  'University of Kansas',\n",
    "                  'Syracuse University',\n",
    "                  'University of California, Los Angeles',\n",
    "                 ]"
   ]
  },
  {
   "cell_type": "code",
   "execution_count": 67,
   "metadata": {},
   "outputs": [
    {
     "name": "stdout",
     "output_type": "stream",
     "text": [
      "0        True\n",
      "1       False\n",
      "2        True\n",
      "3       False\n",
      "4       False\n",
      "5       False\n",
      "6       False\n",
      "7       False\n",
      "8       False\n",
      "9       False\n",
      "10      False\n",
      "11      False\n",
      "12      False\n",
      "13      False\n",
      "14      False\n",
      "15      False\n",
      "16      False\n",
      "17      False\n",
      "18      False\n",
      "19       True\n",
      "20      False\n",
      "21      False\n",
      "22       True\n",
      "23       True\n",
      "24      False\n",
      "25      False\n",
      "26       True\n",
      "27      False\n",
      "28      False\n",
      "29      False\n",
      "        ...  \n",
      "4520     True\n",
      "4521    False\n",
      "4522    False\n",
      "4523    False\n",
      "4524    False\n",
      "4525    False\n",
      "4526    False\n",
      "4527    False\n",
      "4528    False\n",
      "4529    False\n",
      "4530    False\n",
      "4531    False\n",
      "4532    False\n",
      "4533    False\n",
      "4534    False\n",
      "4535    False\n",
      "4536    False\n",
      "4537    False\n",
      "4538    False\n",
      "4539    False\n",
      "4540    False\n",
      "4541     True\n",
      "4542    False\n",
      "4543    False\n",
      "4544    False\n",
      "4545    False\n",
      "4546    False\n",
      "4547    False\n",
      "4548    False\n",
      "4549    False\n",
      "Name: college, Length: 4550, dtype: bool\n"
     ]
    }
   ],
   "source": [
    "# Check \"college\" column against top_5_colleges\n",
    "in_top_5_colleges = players['college'].isin(top_5_colleges)\n",
    "\n",
    "print(in_top_5_colleges)"
   ]
  },
  {
   "cell_type": "code",
   "execution_count": 70,
   "metadata": {},
   "outputs": [],
   "source": [
    "# index entire players df by \"in_top_5\"\n",
    "players_in_top_5 = players[in_top_5_colleges]['name']"
   ]
  },
  {
   "cell_type": "code",
   "execution_count": 72,
   "metadata": {},
   "outputs": [
    {
     "data": {
      "text/plain": [
       "(2198, 52)"
      ]
     },
     "execution_count": 72,
     "metadata": {},
     "output_type": "execute_result"
    }
   ],
   "source": [
    "top_college = nba[nba['Player'].isin(players_in_top_5)]\n",
    "top_college.shape\n",
    " "
   ]
  },
  {
   "cell_type": "code",
   "execution_count": 57,
   "metadata": {},
   "outputs": [
    {
     "data": {
      "text/plain": [
       "(22493, 52)"
      ]
     },
     "execution_count": 57,
     "metadata": {},
     "output_type": "execute_result"
    }
   ],
   "source": [
    "bottom_college = nba[~nba['Player'].isin(players_in_top_5)]\n",
    "bottom_college.shape"
   ]
  },
  {
   "cell_type": "markdown",
   "metadata": {},
   "source": [
    "#### Plot the Players not from Top 5"
   ]
  },
  {
   "cell_type": "code",
   "execution_count": 41,
   "metadata": {},
   "outputs": [
    {
     "data": {
      "image/png": "[encoded data removed]",
      "text/plain": [
       "<Figure size 432x288 with 1 Axes>"
      ]
     },
     "metadata": {
      "needs_background": "light"
     },
     "output_type": "display_data"
    }
   ],
   "source": [
    "plt.hist(bottom_college['PER'], bins=50)\n",
    "\n",
    "# Make it pretty \n",
    "plt.title(\"PER for Players NOT from Top 5 Colleges\")\n",
    "plt.xlabel(\"Player Efficiency Rating\")\n",
    "plt.ylabel(\"# of Players\")\n",
    "\n",
    "# \"print\" the plot\n",
    "plt.show()"
   ]
  },
  {
   "cell_type": "markdown",
   "metadata": {},
   "source": [
    "#### Plot the Players from Top 5"
   ]
  },
  {
   "cell_type": "code",
   "execution_count": 73,
   "metadata": {},
   "outputs": [
    {
     "data": {
      "image/png": "[encoded data removed]",
      "text/plain": [
       "<Figure size 432x288 with 1 Axes>"
      ]
     },
     "metadata": {
      "needs_background": "light"
     },
     "output_type": "display_data"
    }
   ],
   "source": [
    "plt.hist(top_college['PER'], bins=50)\n",
    "\n",
    "# Make it pretty \n",
    "plt.title(\"PER for Players FROM Top 5 Colleges\")\n",
    "plt.xlabel(\"Player Efficiency Rating\")\n",
    "plt.ylabel(\"# of Players\")\n",
    "\n",
    "# \"print\" the plot\n",
    "plt.show()"
   ]
  },
  {
   "cell_type": "markdown",
   "metadata": {},
   "source": [
    "What conclusions can we draw about these 2 groups?"
   ]
  },
  {
   "cell_type": "code",
   "execution_count": 76,
   "metadata": {},
   "outputs": [
    {
     "data": {
      "text/plain": [
       "0.2567266881028937"
      ]
     },
     "execution_count": 76,
     "metadata": {},
     "output_type": "execute_result"
    }
   ],
   "source": [
    "# Short answer\n",
    "top_college[\"3P%\"].mean()"
   ]
  },
  {
   "cell_type": "code",
   "execution_count": null,
   "metadata": {},
   "outputs": [],
   "source": []
  }
 ],
 "metadata": {
  "kernelspec": {
   "display_name": "Python 3",
   "language": "python",
   "name": "python3"
  },
  "language_info": {
   "codemirror_mode": {
    "name": "ipython",
    "version": 3
   },
   "file_extension": ".py",
   "mimetype": "text/x-python",
   "name": "python",
   "nbconvert_exporter": "python",
   "pygments_lexer": "ipython3",
   "version": "3.7.1"
  }
 },
 "nbformat": 4,
 "nbformat_minor": 2
}
